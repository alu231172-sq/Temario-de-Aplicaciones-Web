{
  "nbformat": 4,
  "nbformat_minor": 0,
  "metadata": {
    "colab": {
      "provenance": [],
      "authorship_tag": "ABX9TyMuUi2199kC3Wceo6iYBhNK",
      "include_colab_link": true
    },
    "kernelspec": {
      "name": "python3",
      "display_name": "Python 3"
    },
    "language_info": {
      "name": "python"
    }
  },
  "cells": [
    {
      "cell_type": "markdown",
      "metadata": {
        "id": "view-in-github",
        "colab_type": "text"
      },
      "source": [
        "<a href=\"https://colab.research.google.com/github/alu231172-sq/Temario-de-Aplicaciones-Web/blob/main/EvaluacionDiagnosticaYRSQ.ipynb\" target=\"_parent\"><img src=\"https://colab.research.google.com/assets/colab-badge.svg\" alt=\"Open In Colab\"/></a>"
      ]
    },
    {
      "cell_type": "code",
      "execution_count": 7,
      "metadata": {
        "colab": {
          "base_uri": "https://localhost:8080/",
          "height": 106
        },
        "id": "fs3IlwMlzhrb",
        "outputId": "24d56e52-8cb0-4952-a376-9c2c70c3af88"
      },
      "outputs": [
        {
          "output_type": "error",
          "ename": "SyntaxError",
          "evalue": "invalid syntax (ipython-input-2318914511.py, line 1)",
          "traceback": [
            "\u001b[0;36m  File \u001b[0;32m\"/tmp/ipython-input-2318914511.py\"\u001b[0;36m, line \u001b[0;32m1\u001b[0m\n\u001b[0;31m    Evaluacion Diagnostica Practica\u001b[0m\n\u001b[0m               ^\u001b[0m\n\u001b[0;31mSyntaxError\u001b[0m\u001b[0;31m:\u001b[0m invalid syntax\n"
          ]
        }
      ],
      "source": []
    },
    {
      "cell_type": "markdown",
      "source": [
        "Imprime el nombre del usuario"
      ],
      "metadata": {
        "id": "Uhi6Hb6q0Sub"
      }
    },
    {
      "cell_type": "code",
      "source": [
        "name= input(\"Ingresa tu nombre \")\n",
        "dad= input(\"Ingresa tu apellido paterno \")\n",
        "mom= input(\"Ingresa tu apellido materno \")\n",
        "\n",
        "print (\"Hola,\", name, dad, mom)"
      ],
      "metadata": {
        "colab": {
          "base_uri": "https://localhost:8080/"
        },
        "id": "C0dgUeGH0bnX",
        "outputId": "89b15869-5ec9-4ee8-cf03-e3cdfcda7674"
      },
      "execution_count": 9,
      "outputs": [
        {
          "output_type": "stream",
          "name": "stdout",
          "text": [
            "Ingresa tu nombredevak\n",
            "Ingresa tu apellido paternosoto\n",
            "Ingresa tu apellido maternoquezada\n",
            "Hola,  devak soto quezada\n"
          ]
        }
      ]
    },
    {
      "cell_type": "markdown",
      "source": [
        "Captura y suma dos numeros"
      ],
      "metadata": {
        "id": "vc_wgyLI2C1n"
      }
    },
    {
      "cell_type": "code",
      "source": [
        "n1=input(\"Ingresa un numero entero: \")\n",
        "n2=input(\"Ingresa un segundo numero entero: \")\n",
        "num1=int(n1)\n",
        "num2=int(n2)\n",
        "\n",
        "resu=num1+num2\n",
        "print(\"El resultado de su suma es:\",resu)"
      ],
      "metadata": {
        "colab": {
          "base_uri": "https://localhost:8080/"
        },
        "id": "mg9w_jyW2GRO",
        "outputId": "174f3242-4ccf-4ac9-b2cc-075cfa953a59"
      },
      "execution_count": 11,
      "outputs": [
        {
          "output_type": "stream",
          "name": "stdout",
          "text": [
            "Ingresa un numero entero: 5\n",
            "Ingresa un segundo numero entero: 4\n",
            "El resultado de su suma es: 9\n"
          ]
        }
      ]
    },
    {
      "cell_type": "markdown",
      "source": [
        "Area de un circulo"
      ],
      "metadata": {
        "id": "rOMG4C0g2rAW"
      }
    },
    {
      "cell_type": "code",
      "source": [
        "\n",
        "radio= input(\"Ingresa el radio de un circulo: \")\n",
        "r=float(radio)\n",
        "a= 3.14*(r*r)\n",
        "area=str(a)\n",
        "print(\"El area del circulo es: \",area)"
      ],
      "metadata": {
        "colab": {
          "base_uri": "https://localhost:8080/"
        },
        "id": "_RfPMnNL2tyV",
        "outputId": "6328662e-3d77-4ecd-9380-6b4dac81b560"
      },
      "execution_count": 26,
      "outputs": [
        {
          "output_type": "stream",
          "name": "stdout",
          "text": [
            "Ingresa el radio de un circulo: 5\n",
            "El area del circulo es:  78.5\n"
          ]
        }
      ]
    },
    {
      "cell_type": "markdown",
      "source": [
        "Codigo del semestre pasado"
      ],
      "metadata": {
        "id": "uVWTUm-y5cXc"
      }
    },
    {
      "cell_type": "code",
      "source": [
        "﻿CREATE TABLE IF NOT EXISTS `alumnos` db.alumnos.insertOne({\n",
        "  `nocon` intdb.alumnos.insertOne({11) NOT NULL,\n",
        "  `nombrealu` varchardb.alumnos.insertOne({22) NOT NULL,\n",
        "  `apealu` varchardb.alumnos.insertOne({30) NOT NULL,\n",
        "  `grupo` varchardb.alumnos.insertOne({10) NOT NULL,\n",
        "  `espealu` varchardb.alumnos.insertOne({17) NOT NULL,\n",
        "  `fechanacalu` date NOT NULL,\n",
        "  `,deporte:` varchardb.alumnos.insertOne({45) NOT NULL,\n",
        "  `edadalu` intdb.alumnos.insertOne({11) NOT NULL,\n",
        "  `lugaralu` varchardb.alumnos.insertOne({40) NOT NULL\n",
        ") ENGINE=InnoDB DEFAULT CHARSET=latin1;\n",
        "\n",
        "--\n",
        "-- Volcado de datos para la tabla `alumnos`\n",
        "--\n",
        "ISODatedb.alumnos.insertOne({\n",
        "\n",
        "INSERT INTO `alumnos` db.alumnos.insertOne({`nocon`, `nombrealu`, `apealu`, `grupo`, `espealu`, `fechanacalu`, `,deporte:`, `edadalu`, `lugaralu`) VALUES\n",
        "db.alumnos.insertMany([{nocon: 1, nombre: \"Abril Daniela\", ape: \"Benavides Rodriguez\",grupo: \"4R\",especialidad: \"contabilidad\",fecha : ISODate( \"2007-04-27\"),deporte: \"Vóley\",edad: 17,ciudad: \"Juarez, chihuahua\"},\n",
        "\t{nocon: 2, nombre: \" Ulrich leonardo\",ape: \"Blasquez Meza\",grupo: \"4Q\",especialidad:\"contabilidad\",fecha : ISODate( \"2007-01-10\"),deporte: \"Football\",edad: 17,ciudad: \"Juarez, chihuahua\"},\n",
        "\t{nocon: 3, nombre:\"Alma Dinorah\",ape: \"Cabrera Peredo\",grupo: \"4R\",especialidad: \"contabilidad\",fecha : ISODate( \"2007-04-06\"),deporte: \"Volley\",edad: 16,ciudad: \"Juarez,chihuahua\"},\n",
        "\t{nocon: 4, nombre: \"Cristian Alejandro\",ape: \"Castelan Santacruz\",grupo: \"4Q\",especialidad: \"Programación\",fecha:ISODate(\"2007-10-25\"),deporte: \"Ninguno\",edad: 17,ciudad: \"Cd Juarez, Chihuahua\"},\n",
        "\t{nocon: 5, nombre: \"Laura Valentina\",ape: \"Chavez Gonzalez\",grupo: \"4Q\",especialidad: \"Programacion\",fecha : ISODate( \"2007-06-11\"),deporte: \"Bascket\",edad: 16,ciudad: \"Cd juarez\"},\n",
        "\t{nocon: 6, nombre: \"Jose Hector\",ape:\"Contreras\",grupo: \"4Q\",especialidad: \"Programacion\",fecha : ISODate( \"2007-06-11\"),deporte: \"box\",edad: 16,ciudad: \"Juarez\"},\n",
        "\t{nocon: 7, nombre: \"Dylan Alejandro\",ape: \"Cortes Castillo\",grupo: \"4Q\",especialidad: \"electricidad\",fecha : ISODate( \"2007-05-12\"),deporte: \"Ninguno\",edad: 16,ciudad: \"Cd juarez\"},\n",
        "\t{nocon: 8, nombre: \"Elvia Stephanie\",ape: \"Cruz Orona\",grupo: \"4Q\",especialidad: \"electricidad\",fecha : ISODate( \"2007-07-18\"),deporte: \"Futbol\",edad: 16,ciudad: \"Cd juarez\"},\n",
        "\t{nocon: 9, nombre: \"Bryan Alexis\",ape: \"Dominguez Luna\",grupo: \"4Q\",especialidad: \"Programación\",fecha : ISODate( \"2007-07-10\"),deporte: \",deporte: baseball\",edad: 16,ciudad: \"Cd Juarez Chihuhua\"},\n",
        "\t{nocon: 10,nombre: \"Joshua zaid\",ape: \"Elizalde Lopez\",grupo: \"4A\",especialidad: \"electricidad\",fecha : ISODate( \"2007-04-08\"),deporte: \"Natación\",edad: 17,ciudad: \"Cd juarez\"},"
      ],
      "metadata": {
        "colab": {
          "base_uri": "https://localhost:8080/",
          "height": 106
        },
        "id": "7MObJ3445b8y",
        "outputId": "a573c844-568f-4d2c-ed53-5be92a86cafa"
      },
      "execution_count": 27,
      "outputs": [
        {
          "output_type": "error",
          "ename": "SyntaxError",
          "evalue": "invalid decimal literal (ipython-input-3568064145.py, line 4)",
          "traceback": [
            "\u001b[0;36m  File \u001b[0;32m\"/tmp/ipython-input-3568064145.py\"\u001b[0;36m, line \u001b[0;32m4\u001b[0m\n\u001b[0;31m    * Yesica Rubi Soto Quezada 2Q\u001b[0m\n\u001b[0m                               ^\u001b[0m\n\u001b[0;31mSyntaxError\u001b[0m\u001b[0;31m:\u001b[0m invalid decimal literal\n"
          ]
        }
      ]
    }
  ]
}